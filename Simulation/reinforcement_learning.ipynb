{
 "cells": [
  {
   "cell_type": "code",
   "execution_count": 48,
   "metadata": {},
   "outputs": [
    {
     "ename": "ImportError",
     "evalue": "cannot import name 'modelRT' from 'model' (/home/pete/Documents/repository/AdaptiveDrone/Simulation/model.py)",
     "output_type": "error",
     "traceback": [
      "\u001b[0;31m---------------------------------------------------------------------------\u001b[0m",
      "\u001b[0;31mImportError\u001b[0m                               Traceback (most recent call last)",
      "\u001b[1;32m/home/pete/Documents/repository/AdaptiveDrone/Simulation/reinforcement_learning.ipynb Cell 1\u001b[0m in \u001b[0;36m<cell line: 7>\u001b[0;34m()\u001b[0m\n\u001b[1;32m      <a href='vscode-notebook-cell:/home/pete/Documents/repository/AdaptiveDrone/Simulation/reinforcement_learning.ipynb#ch0000000?line=4'>5</a>\u001b[0m \u001b[39mimport\u001b[39;00m \u001b[39mrandom\u001b[39;00m\n\u001b[1;32m      <a href='vscode-notebook-cell:/home/pete/Documents/repository/AdaptiveDrone/Simulation/reinforcement_learning.ipynb#ch0000000?line=5'>6</a>\u001b[0m \u001b[39mfrom\u001b[39;00m \u001b[39mmath\u001b[39;00m \u001b[39mimport\u001b[39;00m radians, inf\n\u001b[0;32m----> <a href='vscode-notebook-cell:/home/pete/Documents/repository/AdaptiveDrone/Simulation/reinforcement_learning.ipynb#ch0000000?line=6'>7</a>\u001b[0m \u001b[39mfrom\u001b[39;00m \u001b[39mmodel\u001b[39;00m \u001b[39mimport\u001b[39;00m modelRT\n",
      "\u001b[0;31mImportError\u001b[0m: cannot import name 'modelRT' from 'model' (/home/pete/Documents/repository/AdaptiveDrone/Simulation/model.py)"
     ]
    }
   ],
   "source": [
    "from gym import Env\n",
    "import gym\n",
    "from gym.spaces import Discrete, Box\n",
    "import numpy as np\n",
    "import random\n",
    "from math import radians, inf\n",
    "from model import modelRT"
   ]
  },
  {
   "cell_type": "code",
   "execution_count": 47,
   "metadata": {},
   "outputs": [],
   "source": [
    "class DroneEnv(Env):\n",
    "    def __init__(self):\n",
    "        self.action_space = Box(low=0, high=2000, shape=(4,), dtype=np.float32)\n",
    "        self.observation_space = Box(low=-inf, high=inf, shape=(12,))\n",
    "        self.state = np.zeros(12)\n",
    "        self.state[2] = 5\n",
    "        self.maximum_angle = radians(30)\n",
    "        self.flight_lenght = 10\n",
    "        \n",
    "    def step(self, action, deltaT):\n",
    "        self.state = modelRT(self.state, action, deltaT)\n",
    "        self.flight_lenght = self.flight_length-deltaT\n",
    "\n",
    "        reward = - abs(5 - self.state[2])\n",
    "\n",
    "        if self.state[2] < 0:\n",
    "            done = True\n",
    "        else:\n",
    "            done = False\n",
    "        info = {}\n",
    "        return self.state, reward, done, info\n",
    "        \n",
    "    def render(self):\n",
    "        #visualization\n",
    "        pass\n",
    "    def reset(self):\n",
    "        self.state = np.zeros(12)\n",
    "        self.state[2] = 5\n",
    "        self.flight_lenght = 10"
   ]
  },
  {
   "cell_type": "code",
   "execution_count": 38,
   "metadata": {},
   "outputs": [],
   "source": [
    "env = DroneEnv()"
   ]
  },
  {
   "cell_type": "code",
   "execution_count": 45,
   "metadata": {},
   "outputs": [
    {
     "data": {
      "text/plain": [
       "array([ 933.4718  ,  840.9631  , 1121.6293  ,   22.403458], dtype=float32)"
      ]
     },
     "execution_count": 45,
     "metadata": {},
     "output_type": "execute_result"
    }
   ],
   "source": [
    "env.action_space.sample()"
   ]
  },
  {
   "cell_type": "code",
   "execution_count": 6,
   "metadata": {},
   "outputs": [],
   "source": [
    "env = gym.make('CartPole-v0')\n",
    "states = env.observation_space.shape[0]\n",
    "actions = env.action_space.n"
   ]
  },
  {
   "cell_type": "code",
   "execution_count": 7,
   "metadata": {},
   "outputs": [
    {
     "data": {
      "text/plain": [
       "2"
      ]
     },
     "execution_count": 7,
     "metadata": {},
     "output_type": "execute_result"
    }
   ],
   "source": [
    "actions"
   ]
  },
  {
   "cell_type": "code",
   "execution_count": 46,
   "metadata": {},
   "outputs": [
    {
     "ename": "TypeError",
     "evalue": "model() takes 2 positional arguments but 3 were given",
     "output_type": "error",
     "traceback": [
      "\u001b[0;31m---------------------------------------------------------------------------\u001b[0m",
      "\u001b[0;31mTypeError\u001b[0m                                 Traceback (most recent call last)",
      "\u001b[1;32m/home/pete/Documents/repository/AdaptiveDrone/Simulation/reinforcement_learning.ipynb Cell 7\u001b[0m in \u001b[0;36m<cell line: 2>\u001b[0;34m()\u001b[0m\n\u001b[1;32m      <a href='vscode-notebook-cell:/home/pete/Documents/repository/AdaptiveDrone/Simulation/reinforcement_learning.ipynb#ch0000003?line=7'>8</a>\u001b[0m     env\u001b[39m.\u001b[39mrender()\n\u001b[1;32m      <a href='vscode-notebook-cell:/home/pete/Documents/repository/AdaptiveDrone/Simulation/reinforcement_learning.ipynb#ch0000003?line=8'>9</a>\u001b[0m     action \u001b[39m=\u001b[39m env\u001b[39m.\u001b[39maction_space\u001b[39m.\u001b[39msample()\n\u001b[0;32m---> <a href='vscode-notebook-cell:/home/pete/Documents/repository/AdaptiveDrone/Simulation/reinforcement_learning.ipynb#ch0000003?line=9'>10</a>\u001b[0m     n_state, reward, done, info \u001b[39m=\u001b[39m env\u001b[39m.\u001b[39;49mstep(action, \u001b[39m0.1\u001b[39;49m)\n\u001b[1;32m     <a href='vscode-notebook-cell:/home/pete/Documents/repository/AdaptiveDrone/Simulation/reinforcement_learning.ipynb#ch0000003?line=10'>11</a>\u001b[0m     score\u001b[39m+\u001b[39m\u001b[39m=\u001b[39mreward\n\u001b[1;32m     <a href='vscode-notebook-cell:/home/pete/Documents/repository/AdaptiveDrone/Simulation/reinforcement_learning.ipynb#ch0000003?line=11'>12</a>\u001b[0m \u001b[39mprint\u001b[39m(\u001b[39m'\u001b[39m\u001b[39mEpisode:\u001b[39m\u001b[39m{}\u001b[39;00m\u001b[39m Score:\u001b[39m\u001b[39m{}\u001b[39;00m\u001b[39m'\u001b[39m\u001b[39m.\u001b[39m \u001b[39mformat\u001b[39m(episode, score))\n",
      "\u001b[1;32m/home/pete/Documents/repository/AdaptiveDrone/Simulation/reinforcement_learning.ipynb Cell 7\u001b[0m in \u001b[0;36mDroneEnv.step\u001b[0;34m(self, action, deltaT)\u001b[0m\n\u001b[1;32m     <a href='vscode-notebook-cell:/home/pete/Documents/repository/AdaptiveDrone/Simulation/reinforcement_learning.ipynb#ch0000003?line=9'>10</a>\u001b[0m \u001b[39mdef\u001b[39;00m \u001b[39mstep\u001b[39m(\u001b[39mself\u001b[39m, action, deltaT):\n\u001b[0;32m---> <a href='vscode-notebook-cell:/home/pete/Documents/repository/AdaptiveDrone/Simulation/reinforcement_learning.ipynb#ch0000003?line=10'>11</a>\u001b[0m     \u001b[39mself\u001b[39m\u001b[39m.\u001b[39mstate \u001b[39m=\u001b[39m model(\u001b[39mself\u001b[39;49m\u001b[39m.\u001b[39;49mstate, action, deltaT)\n\u001b[1;32m     <a href='vscode-notebook-cell:/home/pete/Documents/repository/AdaptiveDrone/Simulation/reinforcement_learning.ipynb#ch0000003?line=11'>12</a>\u001b[0m     \u001b[39mself\u001b[39m\u001b[39m.\u001b[39mflight_lenght \u001b[39m=\u001b[39m \u001b[39mself\u001b[39m\u001b[39m.\u001b[39mflight_length\u001b[39m-\u001b[39mdeltaT\n\u001b[1;32m     <a href='vscode-notebook-cell:/home/pete/Documents/repository/AdaptiveDrone/Simulation/reinforcement_learning.ipynb#ch0000003?line=13'>14</a>\u001b[0m     reward \u001b[39m=\u001b[39m \u001b[39m-\u001b[39m \u001b[39mabs\u001b[39m(\u001b[39m5\u001b[39m \u001b[39m-\u001b[39m \u001b[39mself\u001b[39m\u001b[39m.\u001b[39mstate[\u001b[39m2\u001b[39m])\n",
      "\u001b[0;31mTypeError\u001b[0m: model() takes 2 positional arguments but 3 were given"
     ]
    }
   ],
   "source": [
    "episodes = 20\n",
    "for episode in range(1, episodes+1):\n",
    "    state = env.reset()\n",
    "    done = False\n",
    "    score = 0\n",
    "\n",
    "    while not done:\n",
    "        env.render()\n",
    "        action = env.action_space.sample()\n",
    "        n_state, reward, done, info = env.step(action, 0.1)\n",
    "        score+=reward\n",
    "    print('Episode:{} Score:{}'. format(episode, score))"
   ]
  },
  {
   "cell_type": "code",
   "execution_count": null,
   "metadata": {},
   "outputs": [],
   "source": []
  }
 ],
 "metadata": {
  "kernelspec": {
   "display_name": "Python 3.8.13 ('AdaptiveDrone')",
   "language": "python",
   "name": "python3"
  },
  "language_info": {
   "codemirror_mode": {
    "name": "ipython",
    "version": 3
   },
   "file_extension": ".py",
   "mimetype": "text/x-python",
   "name": "python",
   "nbconvert_exporter": "python",
   "pygments_lexer": "ipython3",
   "version": "3.8.13"
  },
  "orig_nbformat": 4,
  "vscode": {
   "interpreter": {
    "hash": "066beb5b506c9b2b302fc49ae2a0347e44d1fc406c5708fca4606113c3d0b8ea"
   }
  }
 },
 "nbformat": 4,
 "nbformat_minor": 2
}
